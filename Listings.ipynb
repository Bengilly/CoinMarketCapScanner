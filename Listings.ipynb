{
 "metadata": {
  "language_info": {
   "codemirror_mode": {
    "name": "ipython",
    "version": 3
   },
   "file_extension": ".py",
   "mimetype": "text/x-python",
   "name": "python",
   "nbconvert_exporter": "python",
   "pygments_lexer": "ipython3",
   "version": "3.8.3"
  },
  "orig_nbformat": 2,
  "kernelspec": {
   "name": "python383jvsc74a57bd0d25ba35c70e9c1fa6b75450250e4cad05b52e344452ec9a9c2c2909ea3fed11c",
   "display_name": "Python 3.8.3 64-bit ('Documents': virtualenv)"
  }
 },
 "nbformat": 4,
 "nbformat_minor": 2,
 "cells": [
  {
   "cell_type": "code",
   "execution_count": null,
   "metadata": {
    "tags": [
     "outputPrepend"
    ]
   },
   "outputs": [],
   "source": [
    "from requests import Request, Session\n",
    "import json\n",
    "import pprint\n",
    "import time\n",
    "import webbrowser\n",
    "\n",
    "nextID=10345\n",
    "\n",
    "#scan every x seconds\n",
    "starttime = time.time()\n",
    "while True:\n",
    "  print(f'Searching for ID: {nextID}')\n",
    "\n",
    "  url = 'https://pro-api.coinmarketcap.com/v1/cryptocurrency/info'\n",
    "  parameters = {\n",
    "    'id': nextID\n",
    "  }\n",
    "  headers = {\n",
    "    'Accepts': 'application/json',\n",
    "    'X-CMC_PRO_API_KEY': '74e49361-6382-491d-8cfe-f8a6b19f930c',\n",
    "  }\n",
    "\n",
    "  session = Session()\n",
    "  session.headers.update(headers)\n",
    "\n",
    "  response = session.get(url, params=parameters)\n",
    "  responseJSON = json.loads(response.text)\n",
    "  pprint.pprint(responseJSON)\n",
    "\n",
    "  errorCode = responseJSON['status']['error_code']\n",
    "\n",
    "  if(errorCode == 400):\n",
    "    print('ID not found')\n",
    "  else:\n",
    "    print('ID found')\n",
    "    name = responseJSON['data'][str(nextID)]['slug']\n",
    "    if(responseJSON['data'][str(nextID)]['platform'] == None):\n",
    "      webbrowser.open_new_tab(f'https://coinmarketcap.com/currencies/{name}/')\n",
    "    else:\n",
    "      platform = responseJSON['data'][str(nextID)]['platform']['slug']\n",
    "      if(platform=='binance-coin'):\n",
    "        webbrowser.open_new_tab(f'https://coinmarketcap.com/currencies/{name}/')\n",
    "        tokenAddress = responseJSON['data'][str(nextID)]['platform']['token_address']\n",
    "        webbrowser.open_new_tab(f'https://poocoin.app/tokens/{tokenAddress}')\n",
    "        webbrowser.open_new_tab(f'https://exchange.pancakeswap.finance/#/swap?outputCurrency={tokenAddress}')\n",
    "      else:\n",
    "        print('Platform not found')\n",
    "\n",
    "    nextID+=1\n",
    "    print(f'Searching for new ID: {nextID}')\n",
    "\n",
    "  time.sleep(5.0 - ((time.time() - starttime) % 5.0))"
   ]
  },
  {
   "cell_type": "code",
   "execution_count": null,
   "metadata": {},
   "outputs": [],
   "source": []
  }
 ]
}